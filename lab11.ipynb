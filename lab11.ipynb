{
 "cells": [
  {
   "cell_type": "markdown",
   "id": "a60e6a78",
   "metadata": {},
   "source": [
    "# Laboratorio 11 - Abandono de Clientes\n",
    "\n",
    "----\n",
    "\n",
    "Santiago Pereira 22318\n",
    "\n",
    "Nancy Mazariegos 22513\n",
    "\n",
    "----"
   ]
  },
  {
   "cell_type": "markdown",
   "id": "8529f9b4",
   "metadata": {},
   "source": [
    "### Librerías y carga de datos"
   ]
  },
  {
   "cell_type": "code",
   "execution_count": 4,
   "id": "76f9b80f",
   "metadata": {},
   "outputs": [
    {
     "name": "stdout",
     "output_type": "stream",
     "text": [
      "Requirement already satisfied: pandas in /opt/miniconda3/lib/python3.13/site-packages (2.3.2)\n",
      "Requirement already satisfied: scikit-learn in /opt/miniconda3/lib/python3.13/site-packages (1.7.2)\n",
      "Requirement already satisfied: matplotlib in /opt/miniconda3/lib/python3.13/site-packages (3.10.5)\n",
      "Requirement already satisfied: numpy>=1.26.0 in /opt/miniconda3/lib/python3.13/site-packages (from pandas) (2.3.1)\n",
      "Requirement already satisfied: python-dateutil>=2.8.2 in /opt/miniconda3/lib/python3.13/site-packages (from pandas) (2.9.0.post0)\n",
      "Requirement already satisfied: pytz>=2020.1 in /opt/miniconda3/lib/python3.13/site-packages (from pandas) (2025.2)\n",
      "Requirement already satisfied: tzdata>=2022.7 in /opt/miniconda3/lib/python3.13/site-packages (from pandas) (2025.2)\n",
      "Requirement already satisfied: scipy>=1.8.0 in /opt/miniconda3/lib/python3.13/site-packages (from scikit-learn) (1.16.1)\n",
      "Requirement already satisfied: joblib>=1.2.0 in /opt/miniconda3/lib/python3.13/site-packages (from scikit-learn) (1.5.2)\n",
      "Requirement already satisfied: threadpoolctl>=3.1.0 in /opt/miniconda3/lib/python3.13/site-packages (from scikit-learn) (3.5.0)\n",
      "Requirement already satisfied: contourpy>=1.0.1 in /opt/miniconda3/lib/python3.13/site-packages (from matplotlib) (1.3.1)\n",
      "Requirement already satisfied: cycler>=0.10 in /opt/miniconda3/lib/python3.13/site-packages (from matplotlib) (0.11.0)\n",
      "Requirement already satisfied: fonttools>=4.22.0 in /opt/miniconda3/lib/python3.13/site-packages (from matplotlib) (4.55.3)\n",
      "Requirement already satisfied: kiwisolver>=1.3.1 in /opt/miniconda3/lib/python3.13/site-packages (from matplotlib) (1.4.8)\n",
      "Requirement already satisfied: packaging>=20.0 in /opt/miniconda3/lib/python3.13/site-packages (from matplotlib) (24.2)\n",
      "Requirement already satisfied: pillow>=8 in /opt/miniconda3/lib/python3.13/site-packages (from matplotlib) (11.3.0)\n",
      "Requirement already satisfied: pyparsing>=2.3.1 in /opt/miniconda3/lib/python3.13/site-packages (from matplotlib) (3.2.0)\n",
      "Requirement already satisfied: six>=1.5 in /opt/miniconda3/lib/python3.13/site-packages (from python-dateutil>=2.8.2->pandas) (1.17.0)\n",
      "Note: you may need to restart the kernel to use updated packages.\n",
      "Train shape: (900, 10)\n",
      "New shape: (6, 9)\n"
     ]
    },
    {
     "data": {
      "text/html": [
       "<div>\n",
       "<style scoped>\n",
       "    .dataframe tbody tr th:only-of-type {\n",
       "        vertical-align: middle;\n",
       "    }\n",
       "\n",
       "    .dataframe tbody tr th {\n",
       "        vertical-align: top;\n",
       "    }\n",
       "\n",
       "    .dataframe thead th {\n",
       "        text-align: right;\n",
       "    }\n",
       "</style>\n",
       "<table border=\"1\" class=\"dataframe\">\n",
       "  <thead>\n",
       "    <tr style=\"text-align: right;\">\n",
       "      <th></th>\n",
       "      <th>Names</th>\n",
       "      <th>Age</th>\n",
       "      <th>Total_Purchase</th>\n",
       "      <th>Account_Manager</th>\n",
       "      <th>Years</th>\n",
       "      <th>Num_Sites</th>\n",
       "      <th>Onboard_date</th>\n",
       "      <th>Location</th>\n",
       "      <th>Company</th>\n",
       "      <th>Churn</th>\n",
       "    </tr>\n",
       "  </thead>\n",
       "  <tbody>\n",
       "    <tr>\n",
       "      <th>0</th>\n",
       "      <td>Cameron Williams</td>\n",
       "      <td>42.0</td>\n",
       "      <td>11066.80</td>\n",
       "      <td>0</td>\n",
       "      <td>7.22</td>\n",
       "      <td>8.0</td>\n",
       "      <td>2013-08-30 07:00:40</td>\n",
       "      <td>10265 Elizabeth Mission Barkerburgh, AK 89518</td>\n",
       "      <td>Harvey LLC</td>\n",
       "      <td>1</td>\n",
       "    </tr>\n",
       "    <tr>\n",
       "      <th>1</th>\n",
       "      <td>Kevin Mueller</td>\n",
       "      <td>41.0</td>\n",
       "      <td>11916.22</td>\n",
       "      <td>0</td>\n",
       "      <td>6.50</td>\n",
       "      <td>11.0</td>\n",
       "      <td>2013-08-13 00:38:46</td>\n",
       "      <td>6157 Frank Gardens Suite 019 Carloshaven, RI 1...</td>\n",
       "      <td>Wilson PLC</td>\n",
       "      <td>1</td>\n",
       "    </tr>\n",
       "    <tr>\n",
       "      <th>2</th>\n",
       "      <td>Eric Lozano</td>\n",
       "      <td>38.0</td>\n",
       "      <td>12884.75</td>\n",
       "      <td>0</td>\n",
       "      <td>6.67</td>\n",
       "      <td>12.0</td>\n",
       "      <td>2016-06-29 06:20:07</td>\n",
       "      <td>1331 Keith Court Alyssahaven, DE 90114</td>\n",
       "      <td>Miller, Johnson and Wallace</td>\n",
       "      <td>1</td>\n",
       "    </tr>\n",
       "  </tbody>\n",
       "</table>\n",
       "</div>"
      ],
      "text/plain": [
       "              Names   Age  Total_Purchase  Account_Manager  Years  Num_Sites  \\\n",
       "0  Cameron Williams  42.0        11066.80                0   7.22        8.0   \n",
       "1     Kevin Mueller  41.0        11916.22                0   6.50       11.0   \n",
       "2       Eric Lozano  38.0        12884.75                0   6.67       12.0   \n",
       "\n",
       "          Onboard_date                                           Location  \\\n",
       "0  2013-08-30 07:00:40      10265 Elizabeth Mission Barkerburgh, AK 89518   \n",
       "1  2013-08-13 00:38:46  6157 Frank Gardens Suite 019 Carloshaven, RI 1...   \n",
       "2  2016-06-29 06:20:07             1331 Keith Court Alyssahaven, DE 90114   \n",
       "\n",
       "                       Company  Churn  \n",
       "0                   Harvey LLC      1  \n",
       "1                   Wilson PLC      1  \n",
       "2  Miller, Johnson and Wallace      1  "
      ]
     },
     "metadata": {},
     "output_type": "display_data"
    },
    {
     "data": {
      "text/html": [
       "<div>\n",
       "<style scoped>\n",
       "    .dataframe tbody tr th:only-of-type {\n",
       "        vertical-align: middle;\n",
       "    }\n",
       "\n",
       "    .dataframe tbody tr th {\n",
       "        vertical-align: top;\n",
       "    }\n",
       "\n",
       "    .dataframe thead th {\n",
       "        text-align: right;\n",
       "    }\n",
       "</style>\n",
       "<table border=\"1\" class=\"dataframe\">\n",
       "  <thead>\n",
       "    <tr style=\"text-align: right;\">\n",
       "      <th></th>\n",
       "      <th>Names</th>\n",
       "      <th>Age</th>\n",
       "      <th>Total_Purchase</th>\n",
       "      <th>Account_Manager</th>\n",
       "      <th>Years</th>\n",
       "      <th>Num_Sites</th>\n",
       "      <th>Onboard_date</th>\n",
       "      <th>Location</th>\n",
       "      <th>Company</th>\n",
       "    </tr>\n",
       "  </thead>\n",
       "  <tbody>\n",
       "    <tr>\n",
       "      <th>Andrew Mccall</th>\n",
       "      <td>37.0</td>\n",
       "      <td>9935.53</td>\n",
       "      <td>1</td>\n",
       "      <td>7.71</td>\n",
       "      <td>8.0</td>\n",
       "      <td>2011-08-29 18:37:54</td>\n",
       "      <td>38612 Johnny Stravenue Nataliebury, WI 15717-8316</td>\n",
       "      <td>King Ltd</td>\n",
       "      <td>NaN</td>\n",
       "    </tr>\n",
       "    <tr>\n",
       "      <th>Michele Wright</th>\n",
       "      <td>23.0</td>\n",
       "      <td>7526.94</td>\n",
       "      <td>1</td>\n",
       "      <td>9.28</td>\n",
       "      <td>15.0</td>\n",
       "      <td>2013-07-22 18:19:54</td>\n",
       "      <td>21083 Nicole Junction Suite 332, Youngport, ME...</td>\n",
       "      <td>Cannon-Benson</td>\n",
       "      <td>NaN</td>\n",
       "    </tr>\n",
       "    <tr>\n",
       "      <th>Jeremy Chang</th>\n",
       "      <td>65.0</td>\n",
       "      <td>100.00</td>\n",
       "      <td>1</td>\n",
       "      <td>1.00</td>\n",
       "      <td>15.0</td>\n",
       "      <td>2006-12-11 07:48:13</td>\n",
       "      <td>085 Austin Views Lake Julialand, WY 63726-4298</td>\n",
       "      <td>Barron-Robertson</td>\n",
       "      <td>NaN</td>\n",
       "    </tr>\n",
       "  </tbody>\n",
       "</table>\n",
       "</div>"
      ],
      "text/plain": [
       "                Names      Age  Total_Purchase  Account_Manager  Years  \\\n",
       "Andrew Mccall    37.0  9935.53               1             7.71    8.0   \n",
       "Michele Wright   23.0  7526.94               1             9.28   15.0   \n",
       "Jeremy Chang     65.0   100.00               1             1.00   15.0   \n",
       "\n",
       "                          Num_Sites  \\\n",
       "Andrew Mccall   2011-08-29 18:37:54   \n",
       "Michele Wright  2013-07-22 18:19:54   \n",
       "Jeremy Chang    2006-12-11 07:48:13   \n",
       "\n",
       "                                                     Onboard_date  \\\n",
       "Andrew Mccall   38612 Johnny Stravenue Nataliebury, WI 15717-8316   \n",
       "Michele Wright  21083 Nicole Junction Suite 332, Youngport, ME...   \n",
       "Jeremy Chang       085 Austin Views Lake Julialand, WY 63726-4298   \n",
       "\n",
       "                        Location  Company  \n",
       "Andrew Mccall           King Ltd      NaN  \n",
       "Michele Wright     Cannon-Benson      NaN  \n",
       "Jeremy Chang    Barron-Robertson      NaN  "
      ]
     },
     "metadata": {},
     "output_type": "display_data"
    }
   ],
   "source": [
    "%pip install pandas scikit-learn matplotlib\n",
    "import pandas as pd\n",
    "import numpy as np\n",
    "import matplotlib.pyplot as plt\n",
    "\n",
    "from pathlib import Path\n",
    "from sklearn.model_selection import train_test_split\n",
    "from sklearn.preprocessing import StandardScaler\n",
    "from sklearn.pipeline import Pipeline\n",
    "from sklearn.impute import SimpleImputer\n",
    "from sklearn.linear_model import LogisticRegression\n",
    "from sklearn.metrics import (\n",
    "    accuracy_score, precision_score, recall_score, f1_score,\n",
    "    confusion_matrix, roc_curve, roc_auc_score, classification_report\n",
    ")\n",
    "\n",
    "PATH_TRAIN = Path(\"abandono_clientes.csv\")\n",
    "PATH_NEW   = Path(\"clientes_nuevos.csv\")\n",
    "OUT_PRED   = Path(\"predicciones_clientes_nuevos.csv\")\n",
    "\n",
    "pd.set_option(\"display.max_columns\", 100)\n",
    "\n",
    "df = pd.read_csv(PATH_TRAIN)\n",
    "df_new = pd.read_csv(PATH_NEW)\n",
    "\n",
    "print(\"Train shape:\", df.shape)\n",
    "print(\"New shape:\", df_new.shape)\n",
    "\n",
    "display(df.head(3))\n",
    "display(df_new.head(3))\n",
    "\n"
   ]
  },
  {
   "cell_type": "markdown",
   "id": "20fa9d6b",
   "metadata": {},
   "source": [
    "----\n",
    "\n",
    "### Columnas y tipos"
   ]
  },
  {
   "cell_type": "code",
   "execution_count": 5,
   "id": "d9f07d3f",
   "metadata": {},
   "outputs": [
    {
     "name": "stdout",
     "output_type": "stream",
     "text": [
      "Columnas TRAIN:\n",
      " ['Names', 'Age', 'Total_Purchase', 'Account_Manager', 'Years', 'Num_Sites', 'Onboard_date', 'Location', 'Company', 'Churn']\n",
      "\n",
      "Info TRAIN:\n",
      "Names               object\n",
      "Age                float64\n",
      "Total_Purchase     float64\n",
      "Account_Manager      int64\n",
      "Years              float64\n",
      "Num_Sites          float64\n",
      "Onboard_date        object\n",
      "Location            object\n",
      "Company             object\n",
      "Churn                int64\n",
      "dtype: object\n",
      "\n",
      "Columnas NUEVOS:\n",
      " ['Names', 'Age', 'Total_Purchase', 'Account_Manager', 'Years', 'Num_Sites', 'Onboard_date', 'Location', 'Company']\n",
      "\n",
      "Info NUEVOS:\n",
      "Names              float64\n",
      "Age                float64\n",
      "Total_Purchase       int64\n",
      "Account_Manager    float64\n",
      "Years              float64\n",
      "Num_Sites           object\n",
      "Onboard_date        object\n",
      "Location            object\n",
      "Company            float64\n",
      "dtype: object\n"
     ]
    }
   ],
   "source": [
    "print(\"Columnas TRAIN:\\n\", df.columns.tolist())\n",
    "print(\"\\nInfo TRAIN:\")\n",
    "print(df.dtypes)\n",
    "\n",
    "print(\"\\nColumnas NUEVOS:\\n\", df_new.columns.tolist())\n",
    "print(\"\\nInfo NUEVOS:\")\n",
    "print(df_new.dtypes)\n"
   ]
  },
  {
   "cell_type": "markdown",
   "id": "ce011e5a",
   "metadata": {},
   "source": [
    "----\n",
    "\n",
    "### Normalización de datos"
   ]
  },
  {
   "cell_type": "code",
   "execution_count": 6,
   "id": "999cc29d",
   "metadata": {},
   "outputs": [
    {
     "name": "stdout",
     "output_type": "stream",
     "text": [
      "['Names', 'Age', 'Total_Purchase', 'Account_Manager', 'Years', 'Num_sites', 'Onboard_date', 'Location', 'Company', 'Churn']\n",
      "['Names', 'Age', 'Total_Purchase', 'Account_Manager', 'Years', 'Num_sites', 'Onboard_date', 'Location', 'Company']\n"
     ]
    }
   ],
   "source": [
    "def normalize_cols(d):\n",
    "    d = d.copy()\n",
    "    d.columns = [c.strip().replace(\" \", \"_\").replace(\"-\", \"_\") for c in d.columns]\n",
    "    if \"Num_Sites\" in d.columns and \"Num_sites\" not in d.columns:\n",
    "        d = d.rename(columns={\"Num_Sites\": \"Num_sites\"})\n",
    "    if \"num_sites\" in d.columns and \"Num_sites\" not in d.columns and \"Num_sites\" not in d.columns:\n",
    "        d = d.rename(columns={\"num_sites\": \"Num_sites\"})\n",
    "    if \"Num_Sites\" in d.columns:\n",
    "        d = d.rename(columns={\"Num_Sites\": \"Num_sites\"})\n",
    "    return d\n",
    "\n",
    "df = normalize_cols(df)\n",
    "df_new = normalize_cols(df_new)\n",
    "print(df.columns.tolist())\n",
    "print(df_new.columns.tolist())\n"
   ]
  },
  {
   "cell_type": "code",
   "execution_count": null,
   "id": "48a51093",
   "metadata": {},
   "outputs": [],
   "source": [
    "feature_cols = [\"Age\", \"Total_Purchase\", \"Account_Manager\", \"Years\", \"Num_sites\"]\n",
    "target_col = \"Churn\"\n",
    "\n",
    "missing_cols = [c for c in feature_cols if c not in df.columns]\n",
    "if missing_cols:\n",
    "    raise ValueError(f\"Faltan columnas en TRAIN: {missing_cols}\")\n",
    "\n",
    "if target_col not in df.columns:\n",
    "    raise ValueError(\"No se encontró la columna 'Churn' en TRAIN.\")\n",
    "\n",
    "X = df[feature_cols].copy()\n",
    "y = df[target_col].copy()\n",
    "\n",
    "if X[\"Account_Manager\"].dtype.kind not in \"biu\":\n",
    "    X[\"Account_Manager\"] = X[\"Account_Manager\"].astype(\"int64\")\n"
   ]
  },
  {
   "cell_type": "code",
   "execution_count": 8,
   "id": "938624d7",
   "metadata": {},
   "outputs": [
    {
     "data": {
      "text/plain": [
       "((630, 5),\n",
       " (270, 5),\n",
       " Churn\n",
       " 0    0.833\n",
       " 1    0.167\n",
       " Name: proportion, dtype: float64,\n",
       " Churn\n",
       " 0    0.833\n",
       " 1    0.167\n",
       " Name: proportion, dtype: float64)"
      ]
     },
     "execution_count": 8,
     "metadata": {},
     "output_type": "execute_result"
    }
   ],
   "source": [
    "X_train, X_test, y_train, y_test = train_test_split(\n",
    "    X, y, test_size=0.30, random_state=42, stratify=y\n",
    ")\n",
    "\n",
    "X_train.shape, X_test.shape, y_train.value_counts(normalize=True).round(3), y_test.value_counts(normalize=True).round(3)\n"
   ]
  },
  {
   "cell_type": "code",
   "execution_count": 9,
   "id": "a2ee12df",
   "metadata": {},
   "outputs": [
    {
     "name": "stdout",
     "output_type": "stream",
     "text": [
      "Entrenado.\n"
     ]
    }
   ],
   "source": [
    "pipe = Pipeline(steps=[\n",
    "    (\"imputer\", SimpleImputer(strategy=\"median\")),\n",
    "    (\"scaler\", StandardScaler()),\n",
    "    (\"logreg\", LogisticRegression(max_iter=1000, solver=\"lbfgs\"))\n",
    "])\n",
    "\n",
    "pipe.fit(X_train, y_train)\n",
    "\n",
    "print(\"Entrenado.\")\n"
   ]
  }
 ],
 "metadata": {
  "kernelspec": {
   "display_name": "base",
   "language": "python",
   "name": "python3"
  },
  "language_info": {
   "codemirror_mode": {
    "name": "ipython",
    "version": 3
   },
   "file_extension": ".py",
   "mimetype": "text/x-python",
   "name": "python",
   "nbconvert_exporter": "python",
   "pygments_lexer": "ipython3",
   "version": "3.13.7"
  }
 },
 "nbformat": 4,
 "nbformat_minor": 5
}
